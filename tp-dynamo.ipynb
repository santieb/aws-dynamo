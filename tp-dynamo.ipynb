{
 "cells": [
  {
   "cell_type": "code",
   "execution_count": 96,
   "id": "48a97752",
   "metadata": {},
   "outputs": [],
   "source": [
    "import boto3\n",
    "\n",
    "dynamodb = boto3.client('dynamodb')\n",
    "table_name = 'Productos'\n",
    "\n",
    "key_schema = [\n",
    "    {\n",
    "        'AttributeName': 'TipoProducto',\n",
    "        'KeyType': 'HASH'\n",
    "    },\n",
    "    {\n",
    "        'AttributeName': 'IDProducto',\n",
    "        'KeyType': 'RANGE'\n",
    "    }\n",
    "]\n",
    "\n",
    "attribute_definitions = [\n",
    "    {\n",
    "        'AttributeName': 'TipoProducto',\n",
    "        'AttributeType': 'S'\n",
    "    },\n",
    "    {\n",
    "        'AttributeName': 'IDProducto',\n",
    "        'AttributeType': 'S'\n",
    "    }\n",
    "]\n",
    "\n",
    "provisioned_throughput = {\n",
    "    'ReadCapacityUnits': 10,\n",
    "    'WriteCapacityUnits': 5\n",
    "}"
   ]
  },
  {
   "cell_type": "code",
   "execution_count": 97,
   "id": "d9101af5",
   "metadata": {},
   "outputs": [
    {
     "name": "stdout",
     "output_type": "stream",
     "text": [
      "the Productos table already exists\n"
     ]
    }
   ],
   "source": [
    "# create table\n",
    "response = dynamodb.create_table(\n",
    "    TableName=table_name,\n",
    "    KeySchema=key_schema,\n",
    "    AttributeDefinitions=attribute_definitions,\n",
    "    ProvisionedThroughput=provisioned_throughput\n",
    ")\n",
    "\n",
    "try:\n",
    "    table = dynamodb.describe_table(TableName=table_name)\n",
    "    print(f\"the {table_name} table already exists\")\n",
    "except dynamodb.exceptions.ResourceNotFoundException:\n",
    "    response = dynamodb.create_table(\n",
    "        TableName=table_name,\n",
    "        KeySchema=key_schema,\n",
    "        AttributeDefinitions=attribute_definitions,\n",
    "        ProvisionedThroughput=provisioned_throughput\n",
    "    )\n",
    "    print(f\"{table_name} created\")\n",
    "except Exception as e:\n",
    "    print(f\"error: {str(e)}\")"
   ]
  },
  {
   "cell_type": "code",
   "execution_count": 109,
   "id": "07bbff7f",
   "metadata": {},
   "outputs": [],
   "source": [
    "# items\n",
    "items = [\n",
    "    {\n",
    "        'TipoProducto': 'Libros',\n",
    "        'IDProducto': '9',\n",
    "        \"Titulo\": \"El Gran Gatsby\",\n",
    "        \"Autor\": \"F. Scott Fitzgerald\",\n",
    "        \"Precio\": 15.99\n",
    "    },\n",
    "    {\n",
    "        'TipoProducto': 'Electronicos',\n",
    "        'IDProducto': '2',\n",
    "        \"Nombre\": \"Kindle Paperwhite\",\n",
    "        \"Marca\": \"Amazon\",\n",
    "        \"Precio\": 129.99\n",
    "    },\n",
    "    {\n",
    "        'TipoProducto': 'Libros',\n",
    "        'IDProducto': '3',\n",
    "        \"Titulo\": \"Cien Años de Soledad\",\n",
    "        \"Autor\": \"Gabriel García Márquez\",\n",
    "        \"Precio\": 12.99\n",
    "    },\n",
    "    {\n",
    "        'TipoProducto': 'Electronicos',\n",
    "        'IDProducto': '4',\n",
    "        \"Nombre\": \"iPad Pro\",\n",
    "        \"Marca\": \"Apple\",\n",
    "        \"Precio\": 799.99\n",
    "    }\n",
    "]"
   ]
  },
  {
   "cell_type": "code",
   "execution_count": 110,
   "id": "f7ca78b2",
   "metadata": {},
   "outputs": [
    {
     "name": "stdout",
     "output_type": "stream",
     "text": [
      "{'TipoProducto': 'Libros', 'IDProducto': '9', 'Titulo': 'El Gran Gatsby', 'Autor': 'F. Scott Fitzgerald', 'Precio': 15.99}\n",
      "Inserted item: 9\n",
      "{'TipoProducto': 'Electronicos', 'IDProducto': '2', 'Nombre': 'Kindle Paperwhite', 'Marca': 'Amazon', 'Precio': 129.99}\n",
      "Inserted item: 2\n",
      "{'TipoProducto': 'Libros', 'IDProducto': '3', 'Titulo': 'Cien Años de Soledad', 'Autor': 'Gabriel García Márquez', 'Precio': 12.99}\n",
      "Inserted item: 3\n",
      "{'TipoProducto': 'Electronicos', 'IDProducto': '4', 'Nombre': 'iPad Pro', 'Marca': 'Apple', 'Precio': 799.99}\n",
      "Inserted item: 4\n",
      "All items inserted successfully.\n"
     ]
    }
   ],
   "source": [
    "# put items\n",
    "for item in items:\n",
    "    print(item)\n",
    "    response = dynamodb.put_item(\n",
    "        TableName=table_name,\n",
    "        Item={k: {'S': str(v)} for k, v in item.items()}\n",
    "    )\n",
    "    print(f\"Inserted item: {item['IDProducto']}\")\n",
    "\n",
    "print(\"All items inserted successfully.\")"
   ]
  },
  {
   "cell_type": "code",
   "execution_count": 99,
   "id": "7eab18b9",
   "metadata": {},
   "outputs": [
    {
     "name": "stdout",
     "output_type": "stream",
     "text": [
      "Item updated\n"
     ]
    }
   ],
   "source": [
    "# update item\n",
    "new_values = {\n",
    "    \"Titulo\": \"1985\",\n",
    "    \"Autor\": \"George Orwell\",\n",
    "    \"Precio\": 5.23,\n",
    "    \"Genero\": \"Ficción\"\n",
    "}\n",
    "\n",
    "update_expression = \"SET Titulo = :Titulo, Autor = :Autor, Precio = :Precio, Genero = :Genero\"\n",
    "\n",
    "expression_attribute_values = {\n",
    "    ':Titulo': {'S': new_values['Titulo']},\n",
    "    ':Autor': {'S': new_values['Autor']},\n",
    "    ':Precio': {'N': str(new_values['Precio'])},\n",
    "    ':Genero': {'S': new_values['Genero']}\n",
    "}\n",
    "\n",
    "key = {\n",
    "    'TipoProducto': {'S': 'Libros'},\n",
    "    'IDProducto': {'S': '1'}\n",
    "}\n",
    "\n",
    "response = dynamodb.update_item(\n",
    "    TableName=table_name,\n",
    "    Key=key,\n",
    "    UpdateExpression=update_expression,\n",
    "    ExpressionAttributeValues=expression_attribute_values\n",
    ")\n",
    "\n",
    "print(\"Item updated\")"
   ]
  },
  {
   "cell_type": "code",
   "execution_count": 100,
   "id": "58ac29d5",
   "metadata": {},
   "outputs": [
    {
     "name": "stdout",
     "output_type": "stream",
     "text": [
      "item deleted\n"
     ]
    }
   ],
   "source": [
    "# Delete item\n",
    "\n",
    "product_type = 'Libros'\n",
    "product_id = '3'\n",
    "\n",
    "response = dynamodb.delete_item(\n",
    "    TableName=table_name,\n",
    "    Key={\n",
    "        'TipoProducto': {'S': product_type},\n",
    "        'IDProducto': {'S': product_id }\n",
    "    }\n",
    ")\n",
    "\n",
    "print(\"item deleted\")"
   ]
  },
  {
   "cell_type": "code",
   "execution_count": 101,
   "id": "b0dce822",
   "metadata": {},
   "outputs": [
    {
     "name": "stdout",
     "output_type": "stream",
     "text": [
      "Item updated\n"
     ]
    }
   ],
   "source": [
    "# update item\n",
    "\n",
    "new_item_data = {\n",
    "    \"Nombre\": \"Laptop Legion 5 Gen 6\",\n",
    "    \"Marca\": \"HP\",\n",
    "    \"Precio\": 20,\n",
    "    \"MemoriaRam\": \"8gb\"\n",
    "}\n",
    "\n",
    "update_expression = \"SET Nombre = :nombre, Precio = :precio, MemoriaRam = :memoriaram\"\n",
    "expression_attribute_values = {\n",
    "    ':nombre': {'S': new_item['Nombre']},\n",
    "    ':precio': {'N': str(new_item['Precio'])},\n",
    "    ':memoriaram': {'S': new_item['MemoriaRam']},\n",
    "}\n",
    "\n",
    "key = {\n",
    "    'TipoProducto': {'S': \"Electronicos\"},\n",
    "    'IDProducto': {'S': \"4\"}\n",
    "}\n",
    "\n",
    "response = dynamodb.update_item(\n",
    "    TableName=table_name,\n",
    "    Key=key,\n",
    "    UpdateExpression=update_expression,\n",
    "    ExpressionAttributeValues=expression_attribute_values\n",
    ")\n",
    "\n",
    "print(\"Item updated\")"
   ]
  },
  {
   "cell_type": "code",
   "execution_count": 91,
   "id": "8af69610",
   "metadata": {},
   "outputs": [
    {
     "name": "stdout",
     "output_type": "stream",
     "text": [
      "item deleted\n"
     ]
    }
   ],
   "source": [
    "# Delete item\n",
    "\n",
    "key = {\n",
    "    'TipoProducto': {'S': 'Electronicos'},\n",
    "    'IDProducto': {'S': '2'}\n",
    "}\n",
    "\n",
    "            \n",
    "response = dynamodb.delete_item(\n",
    "    TableName=table_name,\n",
    "    Key=key\n",
    ")\n",
    "\n",
    "print(\"item deleted\")"
   ]
  },
  {
   "cell_type": "code",
   "execution_count": 102,
   "id": "06b0cec7",
   "metadata": {},
   "outputs": [
    {
     "name": "stdout",
     "output_type": "stream",
     "text": [
      "Item added\n"
     ]
    }
   ],
   "source": [
    "# put item\n",
    "item = {\n",
    "    \"TipoProducto\": \"Instrumentos\",\n",
    "    'IDProducto': \"fs8i43\",\n",
    "    \"Marca\": \"Fender\",\n",
    "    \"Nombre\": \"Femmto Stratocaster EG001\",\n",
    "    \"Marca\": \"Fender\",\n",
    "    \"Precio\": 120,\n",
    "    \"NumeroCuerdas\": 6,\n",
    "    \"Color\": \"Black\"\n",
    "}\n",
    "\n",
    "item_data = {\n",
    "    'TipoProducto': {'S': item['TipoProducto']},\n",
    "    'IDProducto': {'S': item['IDProducto']},\n",
    "    'Nombre': {'S': item['Nombre']},\n",
    "    'Marca': {'S': item['Marca']},\n",
    "    'Precio': {'N': str(item['Precio'])},\n",
    "    'NumeroCuerdas': {'N': str(item['NumeroCuerdas'])},\n",
    "    'Color': {'S': item['Color']}\n",
    "}\n",
    "\n",
    "response = dynamodb.put_item(\n",
    "    TableName=table_name,\n",
    "    Item=item_data\n",
    ")\n",
    "\n",
    "print(\"Item added\")"
   ]
  },
  {
   "cell_type": "code",
   "execution_count": 103,
   "id": "963f16f7",
   "metadata": {},
   "outputs": [
    {
     "name": "stdout",
     "output_type": "stream",
     "text": [
      "{'Marca': {'S': 'Fender'}, 'Nombre': {'S': 'Femmto Stratocaster EG001'}, 'IDProducto': {'S': 'fs8i43'}, 'NumeroCuerdas': {'N': '6'}, 'Precio': {'N': '120'}, 'Color': {'S': 'Black'}, 'TipoProducto': {'S': 'Instrumentos'}}\n"
     ]
    }
   ],
   "source": [
    "# get item with query\n",
    "key_condition_expression = \"#tipo = :tipo AND #id = :id\"\n",
    "expression_attribute_names = {\"#tipo\": \"TipoProducto\", \"#id\": \"IDProducto\"}\n",
    "expression_attribute_values = {\n",
    "    \":tipo\": {\"S\": \"Instrumentos\"},\n",
    "    \":id\": {\"S\": \"fs8i43\"},\n",
    "}\n",
    "\n",
    "response = dynamodb.query(\n",
    "    TableName=table_name,\n",
    "    KeyConditionExpression=key_condition_expression,\n",
    "    ExpressionAttributeNames=expression_attribute_names,\n",
    "    ExpressionAttributeValues=expression_attribute_values\n",
    ")\n",
    "\n",
    "item = response.get(\"Items\")\n",
    "print(item[0])"
   ]
  },
  {
   "cell_type": "code",
   "execution_count": 111,
   "id": "c4ed97c8",
   "metadata": {},
   "outputs": [
    {
     "name": "stdout",
     "output_type": "stream",
     "text": [
      "IDProducto: 1, Titulo: El Gran Gatsby, Autor: F. Scott Fitzgerald, Precio: N/A\n",
      "IDProducto: 3, Titulo: Cien Años de Soledad, Autor: Gabriel García Márquez, Precio: N/A\n",
      "IDProducto: 9, Titulo: El Gran Gatsby, Autor: F. Scott Fitzgerald, Precio: N/A\n"
     ]
    }
   ],
   "source": [
    "# get items with scan\n",
    "response = dynamodb.scan(\n",
    "    TableName=table_name,\n",
    "    FilterExpression='#tipo = :tipo',\n",
    "    ExpressionAttributeNames={'#tipo': 'TipoProducto'},\n",
    "    ExpressionAttributeValues={':tipo': {'S': 'Libros'}}\n",
    ")\n",
    "\n",
    "items = response.get(\"Items\", [])\n",
    "for item in items:\n",
    "    print(f\"IDProducto: {item['IDProducto']['S']}, Titulo: {item.get('Titulo', {}).get('S', 'N/A')}, Autor: {item.get('Autor', {}).get('S', 'N/A')}, Precio: {item.get('Precio', {}).get('N', 'N/A')}\")"
   ]
  },
  {
   "cell_type": "code",
   "execution_count": 95,
   "id": "b6a3fb95",
   "metadata": {},
   "outputs": [
    {
     "name": "stdout",
     "output_type": "stream",
     "text": [
      "Productos table deleted\n"
     ]
    }
   ],
   "source": [
    "# delete item\n",
    "try:\n",
    "    dynamodb.delete_table(TableName=table_name)\n",
    "    print(f\"{table_name} table deleted\")\n",
    "except Exception as e:\n",
    "    print(f\"error: {str(e)}\")"
   ]
  },
  {
   "cell_type": "code",
   "execution_count": null,
   "id": "d10903b1",
   "metadata": {},
   "outputs": [],
   "source": []
  }
 ],
 "metadata": {
  "kernelspec": {
   "display_name": "conda_python3",
   "language": "python",
   "name": "conda_python3"
  },
  "language_info": {
   "codemirror_mode": {
    "name": "ipython",
    "version": 3
   },
   "file_extension": ".py",
   "mimetype": "text/x-python",
   "name": "python",
   "nbconvert_exporter": "python",
   "pygments_lexer": "ipython3",
   "version": "3.10.12"
  }
 },
 "nbformat": 4,
 "nbformat_minor": 5
}

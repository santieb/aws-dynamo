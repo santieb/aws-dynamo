{
 "cells": [
  {
   "cell_type": "code",
   "execution_count": 5,
   "id": "d1f7f080",
   "metadata": {},
   "outputs": [
    {
     "name": "stdout",
     "output_type": "stream",
     "text": [
      "Send message to SQS queue: dcb675e8-1d24-4a39-a361-4fdbe011cc20\n"
     ]
    }
   ],
   "source": [
    "import boto3\n",
    "import json\n",
    "import hashlib\n",
    "\n",
    "sqs = boto3.client('sqs')\n",
    "\n",
    "queue_url = 'sqsurl'\n",
    "\n",
    "message_body = {\n",
    "    \"sns_topic\": \"arn:aws:sns\",\n",
    "    \"subject\": \"¿Olvidaste algo en tu Carrito?\",\n",
    "    \"message\": \"Hola Santiago,\\n\\nNotamos que tienes artículos en tu carrito. ¡No dejes que se te escapen! Completa tu compra ahora.\\n\\nEnlace a tu Carrito de Compras: [Enlace]\\n\\nGracias por elegirnos!\",\n",
    "}\n",
    "message_md5 = hashlib.md5(json.dumps(message_body).encode('utf-8')).hexdigest()\n",
    "\n",
    "response = sqs.send_message(\n",
    "    QueueUrl=queue_url,\n",
    "    MessageBody=json.dumps(message_body),\n",
    "    MessageGroupId=\"4324534\",\n",
    "    MessageDeduplicationId=message_md5\n",
    ")\n",
    "\n",
    "print(f\"Send message to SQS queue: {response['MessageId']}\")\n"
   ]
  },
  {
   "cell_type": "code",
   "execution_count": 7,
   "id": "6a3993ff",
   "metadata": {},
   "outputs": [
    {
     "name": "stdout",
     "output_type": "stream",
     "text": [
      "Send message to SQS queue: f12ae1cf-f864-4063-a321-5dc3d88319b9\n"
     ]
    }
   ],
   "source": [
    "import boto3\n",
    "import json\n",
    "import hashlib\n",
    "\n",
    "sqs = boto3.client('sqs')\n",
    "\n",
    "queue_url = 'sqsurl'\n",
    "\n",
    "payment_confirmation_message = {\n",
    "    \"sns_topic\": \"arn:aws:sns\",\n",
    "    \"subject\": \"Confirmación de Pago Exitoso\",\n",
    "    \"message\": \"¡Hola!\\n\\nQueremos informarte que tu pago mensual ha sido procesado con éxito. Puedes revisar los detalles en tu cuenta.\\n\\n¡Gracias por tu puntualidad en los pagos!\\n\\n¡Saludos!\",\n",
    "}\n",
    "\n",
    "message_md5 = hashlib.md5(json.dumps(payment_confirmation_message).encode('utf-8')).hexdigest()\n",
    "\n",
    "response = sqs.send_message(\n",
    "    QueueUrl=queue_url,\n",
    "    MessageBody=json.dumps(payment_confirmation_message),\n",
    "    MessageGroupId=\"4324534\",\n",
    "    MessageDeduplicationId=message_md5\n",
    ")\n",
    "\n",
    "print(f\"Send message to SQS queue: {response['MessageId']}\")\n"
   ]
  }
 ],
 "metadata": {
  "kernelspec": {
   "display_name": "conda_python3",
   "language": "python",
   "name": "conda_python3"
  },
  "language_info": {
   "codemirror_mode": {
    "name": "ipython",
    "version": 3
   },
   "file_extension": ".py",
   "mimetype": "text/x-python",
   "name": "python",
   "nbconvert_exporter": "python",
   "pygments_lexer": "ipython3",
   "version": "3.10.13"
  }
 },
 "nbformat": 4,
 "nbformat_minor": 5
}

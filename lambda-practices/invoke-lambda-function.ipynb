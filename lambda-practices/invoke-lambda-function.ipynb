{
 "cells": [
  {
   "cell_type": "code",
   "execution_count": 15,
   "id": "677b42d7",
   "metadata": {},
   "outputs": [],
   "source": [
    "import boto3\n",
    "import json\n",
    "\n",
    "lambda_client = boto3.client('lambda')\n",
    "function_name = 'calculator-lambda'\n",
    "\n",
    "# operations add subtract multiply divide\n",
    "params = {\n",
    "    'num': 10,\n",
    "    'num2': 0,\n",
    "    'op': 'divide'\n",
    "}"
   ]
  },
  {
   "cell_type": "code",
   "execution_count": 16,
   "id": "54c07285",
   "metadata": {},
   "outputs": [
    {
     "name": "stdout",
     "output_type": "stream",
     "text": [
      "\"Error: Division by zero is not allowed.\"\n"
     ]
    }
   ],
   "source": [
    "response = lambda_client.invoke(\n",
    "    FunctionName=function_name,\n",
    "    InvocationType='RequestResponse',\n",
    "    Payload=json.dumps(params)\n",
    ")\n",
    "\n",
    "response_payload = json.loads(response['Payload'].read().decode(\"utf-8\"))\n",
    "if response_payload['statusCode'] == 200:\n",
    "    print(response_payload['data'])\n",
    "\n",
    "if response_payload['statusCode'] == 400:\n",
    "    print(response_payload['error'])"
   ]
  }
 ],
 "metadata": {
  "kernelspec": {
   "display_name": "conda_python3",
   "language": "python",
   "name": "conda_python3"
  },
  "language_info": {
   "codemirror_mode": {
    "name": "ipython",
    "version": 3
   },
   "file_extension": ".py",
   "mimetype": "text/x-python",
   "name": "python",
   "nbconvert_exporter": "python",
   "pygments_lexer": "ipython3",
   "version": "3.10.13"
  }
 },
 "nbformat": 4,
 "nbformat_minor": 5
}
